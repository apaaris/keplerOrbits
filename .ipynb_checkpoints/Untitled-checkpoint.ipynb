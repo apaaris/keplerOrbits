{
 "cells": [
  {
   "cell_type": "code",
   "execution_count": 23,
   "id": "79955562",
   "metadata": {},
   "outputs": [],
   "source": [
    "import numpy as np\n",
    "import matplotlib.pyplot as plt\n",
    "from tqdm import tqdm\n",
    "%matplotlib inline"
   ]
  },
  {
   "cell_type": "code",
   "execution_count": 41,
   "id": "3809d368",
   "metadata": {},
   "outputs": [],
   "source": [
    "def orbitsys(u):\n",
    "    x,y,vx,vy = u\n",
    "    r = np.sqrt(x**2 + y**2)\n",
    "    f = 1/r**3\n",
    "    return np.array([vx, vy, -f*x, -f*y]);"
   ]
  },
  {
   "cell_type": "code",
   "execution_count": 42,
   "id": "1e69aad7",
   "metadata": {},
   "outputs": [],
   "source": [
    "def Eulerintegrate(f, y0, tspan):\n",
    "    y = np.zeros([len(tspan),len(y0)])\n",
    "    y[0,:] = y0\n",
    "    for k in range(1, len(tspan)):\n",
    "        y[k,:] = y[k-1] + (tspan[k]-tspan[k-1]) * f(y[k-1])\n",
    "    return y\n",
    "\n",
    "\n",
    "def RK4integrate(f, y0, tspan):\n",
    "    \n",
    "    y = np.zeros([len(tspan),len(y0)])\n",
    "    y[0,:]=y0\n",
    "    \n",
    "    for k in range(1, len(tspan)):\n",
    "        k1 = (tspan[k]-tspan[k-1])*f(y[k-1])\n",
    "        k2 = (tspan[k]-tspan[k-1])*f(y[k-1]+0.5*k1)\n",
    "        k3 = (tspan[k]-tspan[k-1])*f(y[k-1]+0.5*k2)\n",
    "        k4 = (tspan[k]-tspan[k-1])*f(y[k-1]+k3)\n",
    "        y[k,:] = y[k-1]+ (k1+2*k2+2*k3+k4)/6\n",
    "        #y[k,:] = RK4step(f, y[k-1], tspan[k]-tspan[k-1])\n",
    "    \n",
    "    return y"
   ]
  },
  {
   "cell_type": "code",
   "execution_count": 43,
   "id": "3b2092b3",
   "metadata": {},
   "outputs": [
    {
     "data": {
      "text/plain": [
       "[<matplotlib.lines.Line2D at 0x7f9704771a90>]"
      ]
     },
     "execution_count": 43,
     "metadata": {},
     "output_type": "execute_result"
    },
    {
     "data": {
      "image/png": "[encoded data removed]",
      "text/plain": [
       "<Figure size 432x288 with 1 Axes>"
      ]
     },
     "metadata": {
      "needs_background": "light"
     },
     "output_type": "display_data"
    }
   ],
   "source": [
    "dt = .1\n",
    "t = np.arange(0,10,dt)\n",
    "y0 = np.array([0.0, 1.0, 0.0, np.sqrt(1 + 0.5)])\n",
    "\n",
    "sol_euler = Eulerintegrate(orbitsys, y0, t)\n",
    "x,y,vx,vy = sol_euler.T\n",
    "plt.plot(x,y)\n",
    "\n",
    "sol_RK4 = RK4integrate(orbitsys, y0, t)\n",
    "x,y,vx,vy = sol_RK4.T\n",
    "plt.plot(x,y)"
   ]
  },
  {
   "cell_type": "code",
   "execution_count": null,
   "id": "41227900",
   "metadata": {},
   "outputs": [],
   "source": []
  },
  {
   "cell_type": "code",
   "execution_count": null,
   "id": "1995f169",
   "metadata": {},
   "outputs": [],
   "source": []
  },
  {
   "cell_type": "code",
   "execution_count": null,
   "id": "1d9afb38",
   "metadata": {},
   "outputs": [],
   "source": []
  }
 ],
 "metadata": {
  "kernelspec": {
   "display_name": "Python 3",
   "language": "python",
   "name": "python3"
  },
  "language_info": {
   "codemirror_mode": {
    "name": "ipython",
    "version": 3
   },
   "file_extension": ".py",
   "mimetype": "text/x-python",
   "name": "python",
   "nbconvert_exporter": "python",
   "pygments_lexer": "ipython3",
   "version": "3.8.10"
  }
 },
 "nbformat": 4,
 "nbformat_minor": 5
}
